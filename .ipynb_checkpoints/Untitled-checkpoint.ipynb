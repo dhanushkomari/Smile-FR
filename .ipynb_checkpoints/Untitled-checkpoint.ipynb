{
 "cells": [
  {
   "cell_type": "markdown",
   "metadata": {},
   "source": [
    "#  @@@Playing an Add or showing the Details of the known person@@@"
   ]
  },
  {
   "cell_type": "code",
   "execution_count": 41,
   "metadata": {},
   "outputs": [],
   "source": [
    "import pandas as pd\n",
    "data = pd.read_csv('E:/WEB_PROJECTS/Smile_FR_Project/FR_ML_CODE/Id.csv')"
   ]
  },
  {
   "cell_type": "code",
   "execution_count": 55,
   "metadata": {},
   "outputs": [
    {
     "data": {
      "text/html": [
       "<div>\n",
       "<style scoped>\n",
       "    .dataframe tbody tr th:only-of-type {\n",
       "        vertical-align: middle;\n",
       "    }\n",
       "\n",
       "    .dataframe tbody tr th {\n",
       "        vertical-align: top;\n",
       "    }\n",
       "\n",
       "    .dataframe thead th {\n",
       "        text-align: right;\n",
       "    }\n",
       "</style>\n",
       "<table border=\"1\" class=\"dataframe\">\n",
       "  <thead>\n",
       "    <tr style=\"text-align: right;\">\n",
       "      <th></th>\n",
       "      <th>Unnamed: 0</th>\n",
       "      <th>name</th>\n",
       "      <th>date</th>\n",
       "      <th>dt</th>\n",
       "    </tr>\n",
       "  </thead>\n",
       "  <tbody>\n",
       "    <tr>\n",
       "      <th>0</th>\n",
       "      <td>0</td>\n",
       "      <td>Karthik</td>\n",
       "      <td>09-11-2020 17:02:02</td>\n",
       "      <td>09-11-2020</td>\n",
       "    </tr>\n",
       "    <tr>\n",
       "      <th>1</th>\n",
       "      <td>1</td>\n",
       "      <td>Karthik</td>\n",
       "      <td>09-11-2020 17:03:05</td>\n",
       "      <td>09-11-2020</td>\n",
       "    </tr>\n",
       "    <tr>\n",
       "      <th>2</th>\n",
       "      <td>2</td>\n",
       "      <td>Karthik</td>\n",
       "      <td>09-11-2020 18:31:54</td>\n",
       "      <td>09-11-2020</td>\n",
       "    </tr>\n",
       "    <tr>\n",
       "      <th>3</th>\n",
       "      <td>3</td>\n",
       "      <td>Karthik</td>\n",
       "      <td>09-11-2020 18:33:48</td>\n",
       "      <td>09-11-2020</td>\n",
       "    </tr>\n",
       "    <tr>\n",
       "      <th>4</th>\n",
       "      <td>4</td>\n",
       "      <td>Karthik</td>\n",
       "      <td>09-11-2020 18:35:05</td>\n",
       "      <td>09-11-2020</td>\n",
       "    </tr>\n",
       "    <tr>\n",
       "      <th>...</th>\n",
       "      <td>...</td>\n",
       "      <td>...</td>\n",
       "      <td>...</td>\n",
       "      <td>...</td>\n",
       "    </tr>\n",
       "    <tr>\n",
       "      <th>94</th>\n",
       "      <td>94</td>\n",
       "      <td>Dhanush</td>\n",
       "      <td>27-03-2021 16:32:17</td>\n",
       "      <td>27-03-2021</td>\n",
       "    </tr>\n",
       "    <tr>\n",
       "      <th>95</th>\n",
       "      <td>95</td>\n",
       "      <td>Dhanush</td>\n",
       "      <td>27-03-2021 16:48:51</td>\n",
       "      <td>27-03-2021</td>\n",
       "    </tr>\n",
       "    <tr>\n",
       "      <th>96</th>\n",
       "      <td>96</td>\n",
       "      <td>Dhanush</td>\n",
       "      <td>30-03-2021 10:58:05</td>\n",
       "      <td>30-03-2021</td>\n",
       "    </tr>\n",
       "    <tr>\n",
       "      <th>97</th>\n",
       "      <td>97</td>\n",
       "      <td>Dhanush</td>\n",
       "      <td>30-03-2021 12:09:55</td>\n",
       "      <td>30-03-2021</td>\n",
       "    </tr>\n",
       "    <tr>\n",
       "      <th>98</th>\n",
       "      <td>98</td>\n",
       "      <td>Dhanush</td>\n",
       "      <td>01-04-2021 10:32:58</td>\n",
       "      <td>01-04-2021</td>\n",
       "    </tr>\n",
       "  </tbody>\n",
       "</table>\n",
       "<p>99 rows × 4 columns</p>\n",
       "</div>"
      ],
      "text/plain": [
       "    Unnamed: 0     name                 date          dt\n",
       "0            0  Karthik  09-11-2020 17:02:02  09-11-2020\n",
       "1            1  Karthik  09-11-2020 17:03:05  09-11-2020\n",
       "2            2  Karthik  09-11-2020 18:31:54  09-11-2020\n",
       "3            3  Karthik  09-11-2020 18:33:48  09-11-2020\n",
       "4            4  Karthik  09-11-2020 18:35:05  09-11-2020\n",
       "..         ...      ...                  ...         ...\n",
       "94          94  Dhanush  27-03-2021 16:32:17  27-03-2021\n",
       "95          95  Dhanush  27-03-2021 16:48:51  27-03-2021\n",
       "96          96  Dhanush  30-03-2021 10:58:05  30-03-2021\n",
       "97          97  Dhanush  30-03-2021 12:09:55  30-03-2021\n",
       "98          98  Dhanush  01-04-2021 10:32:58  01-04-2021\n",
       "\n",
       "[99 rows x 4 columns]"
      ]
     },
     "execution_count": 55,
     "metadata": {},
     "output_type": "execute_result"
    }
   ],
   "source": [
    "data"
   ]
  },
  {
   "cell_type": "code",
   "execution_count": 43,
   "metadata": {},
   "outputs": [],
   "source": [
    "l = len(data)\n",
    "last_obj = data.loc[l-1]"
   ]
  },
  {
   "cell_type": "code",
   "execution_count": 56,
   "metadata": {},
   "outputs": [
    {
     "data": {
      "text/plain": [
       "Unnamed: 0                     98\n",
       "name                      Dhanush\n",
       "date          01-04-2021 10:32:58\n",
       "dt                     01-04-2021\n",
       "Name: 98, dtype: object"
      ]
     },
     "execution_count": 56,
     "metadata": {},
     "output_type": "execute_result"
    }
   ],
   "source": [
    "last_obj"
   ]
  },
  {
   "cell_type": "code",
   "execution_count": 44,
   "metadata": {},
   "outputs": [],
   "source": [
    "date_of_recent = last_obj['date']"
   ]
  },
  {
   "cell_type": "code",
   "execution_count": 45,
   "metadata": {},
   "outputs": [
    {
     "data": {
      "text/plain": [
       "'01-04-2021 10:32:58'"
      ]
     },
     "execution_count": 45,
     "metadata": {},
     "output_type": "execute_result"
    }
   ],
   "source": [
    "date_of_recent"
   ]
  },
  {
   "cell_type": "code",
   "execution_count": 46,
   "metadata": {},
   "outputs": [
    {
     "data": {
      "text/plain": [
       "str"
      ]
     },
     "execution_count": 46,
     "metadata": {},
     "output_type": "execute_result"
    }
   ],
   "source": [
    "type(date_of_recent)"
   ]
  },
  {
   "cell_type": "code",
   "execution_count": 47,
   "metadata": {},
   "outputs": [],
   "source": [
    "from datetime import datetime\n",
    "now = datetime.now()"
   ]
  },
  {
   "cell_type": "code",
   "execution_count": 48,
   "metadata": {},
   "outputs": [
    {
     "data": {
      "text/plain": [
       "datetime.datetime(2021, 4, 1, 15, 0, 56, 264555)"
      ]
     },
     "execution_count": 48,
     "metadata": {},
     "output_type": "execute_result"
    }
   ],
   "source": [
    "now"
   ]
  },
  {
   "cell_type": "code",
   "execution_count": 49,
   "metadata": {},
   "outputs": [],
   "source": [
    "obj_time = datetime.strptime(date_of_recent, '%d-%m-%Y %H:%M:%S')"
   ]
  },
  {
   "cell_type": "code",
   "execution_count": 50,
   "metadata": {},
   "outputs": [
    {
     "data": {
      "text/plain": [
       "datetime.datetime(2021, 4, 1, 10, 32, 58)"
      ]
     },
     "execution_count": 50,
     "metadata": {},
     "output_type": "execute_result"
    }
   ],
   "source": [
    "obj_time"
   ]
  },
  {
   "cell_type": "code",
   "execution_count": 51,
   "metadata": {},
   "outputs": [],
   "source": [
    "difference_in_time = now - obj_time"
   ]
  },
  {
   "cell_type": "code",
   "execution_count": 52,
   "metadata": {},
   "outputs": [],
   "source": [
    "diff_in_sec = difference_in_time.seconds"
   ]
  },
  {
   "cell_type": "code",
   "execution_count": 53,
   "metadata": {},
   "outputs": [
    {
     "data": {
      "text/plain": [
       "16078"
      ]
     },
     "execution_count": 53,
     "metadata": {},
     "output_type": "execute_result"
    }
   ],
   "source": [
    "diff_in_sec"
   ]
  },
  {
   "cell_type": "code",
   "execution_count": 54,
   "metadata": {},
   "outputs": [
    {
     "name": "stdout",
     "output_type": "stream",
     "text": [
      "Play the Ad\n"
     ]
    }
   ],
   "source": [
    "if diff_in_sec<=10:\n",
    "    print('Show the details of the person')\n",
    "else:\n",
    "    print('Play the Ad')"
   ]
  },
  {
   "cell_type": "markdown",
   "metadata": {},
   "source": [
    "# @@@@@@@@@@Connecting to POSTGRESQL@@@@@@@@@@"
   ]
  },
  {
   "cell_type": "code",
   "execution_count": 1,
   "metadata": {},
   "outputs": [],
   "source": [
    "import psycopg2\n",
    "conn = psycopg2.connect(\n",
    "                        host = 'localhost',\n",
    "                        database = 'FR-SMILE-DB',\n",
    "                        user = 'postgres',\n",
    "                        password = 'admin123',\n",
    "                        port = 5432\n",
    ")"
   ]
  },
  {
   "cell_type": "code",
   "execution_count": 2,
   "metadata": {},
   "outputs": [
    {
     "data": {
      "text/plain": [
       "<connection object at 0x00000200FD78E8C0; dsn: 'user=postgres password=xxx dbname=FR-SMILE-DB host=localhost port=5432', closed: 0>"
      ]
     },
     "execution_count": 2,
     "metadata": {},
     "output_type": "execute_result"
    }
   ],
   "source": [
    "conn"
   ]
  },
  {
   "cell_type": "code",
   "execution_count": 3,
   "metadata": {},
   "outputs": [],
   "source": [
    "cur = conn.cursor()"
   ]
  },
  {
   "cell_type": "code",
   "execution_count": 100,
   "metadata": {},
   "outputs": [
    {
     "data": {
      "text/plain": [
       "<cursor object at 0x000002675EA3B4A0; closed: 0>"
      ]
     },
     "execution_count": 100,
     "metadata": {},
     "output_type": "execute_result"
    }
   ],
   "source": [
    "cur"
   ]
  },
  {
   "cell_type": "code",
   "execution_count": 101,
   "metadata": {},
   "outputs": [],
   "source": [
    "cur.execute('''SELECT * FROM public.\"CameraApp_status\";''')"
   ]
  },
  {
   "cell_type": "code",
   "execution_count": 102,
   "metadata": {},
   "outputs": [
    {
     "data": {
      "text/plain": [
       "[(3,\n",
       "  'known',\n",
       "  datetime.datetime(2021, 3, 30, 11, 3, 26, 353186, tzinfo=psycopg2.tz.FixedOffsetTimezone(offset=330, name=None))),\n",
       " (5,\n",
       "  'known',\n",
       "  datetime.datetime(2021, 3, 30, 11, 3, 41, 703828, tzinfo=psycopg2.tz.FixedOffsetTimezone(offset=330, name=None))),\n",
       " (6,\n",
       "  'known',\n",
       "  datetime.datetime(2021, 3, 30, 11, 3, 47, 573221, tzinfo=psycopg2.tz.FixedOffsetTimezone(offset=330, name=None))),\n",
       " (33,\n",
       "  'unknown',\n",
       "  datetime.datetime(2021, 3, 31, 13, 21, 42, 633740, tzinfo=psycopg2.tz.FixedOffsetTimezone(offset=330, name=None))),\n",
       " (34,\n",
       "  'known',\n",
       "  datetime.datetime(2021, 3, 31, 13, 26, 16, 224173, tzinfo=psycopg2.tz.FixedOffsetTimezone(offset=330, name=None))),\n",
       " (38,\n",
       "  'unknown',\n",
       "  datetime.datetime(2021, 3, 31, 18, 16, 19, 137715, tzinfo=psycopg2.tz.FixedOffsetTimezone(offset=330, name=None))),\n",
       " (39,\n",
       "  'known',\n",
       "  datetime.datetime(2021, 3, 31, 18, 19, 14, 385049, tzinfo=psycopg2.tz.FixedOffsetTimezone(offset=330, name=None))),\n",
       " (45,\n",
       "  'unknown',\n",
       "  datetime.datetime(2021, 4, 1, 10, 44, 35, 247848, tzinfo=psycopg2.tz.FixedOffsetTimezone(offset=330, name=None))),\n",
       " (46,\n",
       "  'known',\n",
       "  datetime.datetime(2021, 4, 1, 10, 44, 39, 770221, tzinfo=psycopg2.tz.FixedOffsetTimezone(offset=330, name=None))),\n",
       " (50,\n",
       "  'unknown',\n",
       "  datetime.datetime(2021, 4, 1, 11, 3, 4, 865690, tzinfo=psycopg2.tz.FixedOffsetTimezone(offset=330, name=None))),\n",
       " (51,\n",
       "  'known',\n",
       "  datetime.datetime(2021, 4, 1, 11, 19, 48, 991981, tzinfo=psycopg2.tz.FixedOffsetTimezone(offset=330, name=None))),\n",
       " (52,\n",
       "  'unknown',\n",
       "  datetime.datetime(2021, 4, 1, 11, 20, 50, 982437, tzinfo=psycopg2.tz.FixedOffsetTimezone(offset=330, name=None))),\n",
       " (53,\n",
       "  'known',\n",
       "  datetime.datetime(2021, 4, 1, 11, 21, 19, 300582, tzinfo=psycopg2.tz.FixedOffsetTimezone(offset=330, name=None))),\n",
       " (54,\n",
       "  'unknown',\n",
       "  datetime.datetime(2021, 4, 1, 11, 22, 56, 54640, tzinfo=psycopg2.tz.FixedOffsetTimezone(offset=330, name=None))),\n",
       " (55,\n",
       "  'known',\n",
       "  datetime.datetime(2021, 4, 1, 11, 24, 21, 438640, tzinfo=psycopg2.tz.FixedOffsetTimezone(offset=330, name=None))),\n",
       " (56,\n",
       "  'unknown',\n",
       "  datetime.datetime(2021, 4, 1, 11, 25, 32, 912716, tzinfo=psycopg2.tz.FixedOffsetTimezone(offset=330, name=None))),\n",
       " (57,\n",
       "  'known',\n",
       "  datetime.datetime(2021, 4, 1, 11, 25, 37, 993423, tzinfo=psycopg2.tz.FixedOffsetTimezone(offset=330, name=None))),\n",
       " (58,\n",
       "  'unknown',\n",
       "  datetime.datetime(2021, 4, 1, 11, 32, 5, 947838, tzinfo=psycopg2.tz.FixedOffsetTimezone(offset=330, name=None))),\n",
       " (59,\n",
       "  'known',\n",
       "  datetime.datetime(2021, 4, 1, 11, 34, 17, 767386, tzinfo=psycopg2.tz.FixedOffsetTimezone(offset=330, name=None))),\n",
       " (60,\n",
       "  'unknown',\n",
       "  datetime.datetime(2021, 4, 1, 11, 36, 6, 662304, tzinfo=psycopg2.tz.FixedOffsetTimezone(offset=330, name=None))),\n",
       " (61,\n",
       "  'known',\n",
       "  datetime.datetime(2021, 4, 1, 11, 36, 40, 78485, tzinfo=psycopg2.tz.FixedOffsetTimezone(offset=330, name=None))),\n",
       " (62,\n",
       "  'unknown',\n",
       "  datetime.datetime(2021, 4, 1, 11, 43, 50, 545623, tzinfo=psycopg2.tz.FixedOffsetTimezone(offset=330, name=None))),\n",
       " (63,\n",
       "  'known',\n",
       "  datetime.datetime(2021, 4, 1, 11, 54, 23, 328016, tzinfo=psycopg2.tz.FixedOffsetTimezone(offset=330, name=None))),\n",
       " (64,\n",
       "  'unknown',\n",
       "  datetime.datetime(2021, 4, 1, 11, 55, 6, 650104, tzinfo=psycopg2.tz.FixedOffsetTimezone(offset=330, name=None))),\n",
       " (65,\n",
       "  'known',\n",
       "  datetime.datetime(2021, 4, 1, 12, 2, 54, 73143, tzinfo=psycopg2.tz.FixedOffsetTimezone(offset=330, name=None))),\n",
       " (66,\n",
       "  'unknown',\n",
       "  datetime.datetime(2021, 4, 1, 12, 8, 46, 33367, tzinfo=psycopg2.tz.FixedOffsetTimezone(offset=330, name=None))),\n",
       " (67,\n",
       "  'known',\n",
       "  datetime.datetime(2021, 4, 1, 12, 18, 24, 457921, tzinfo=psycopg2.tz.FixedOffsetTimezone(offset=330, name=None)))]"
      ]
     },
     "execution_count": 102,
     "metadata": {},
     "output_type": "execute_result"
    }
   ],
   "source": [
    "cur.fetchall()"
   ]
  },
  {
   "cell_type": "code",
   "execution_count": 104,
   "metadata": {},
   "outputs": [],
   "source": [
    "cur.execute('''SELECT * FROM public.\"CameraApp_patient\";''')"
   ]
  },
  {
   "cell_type": "code",
   "execution_count": 105,
   "metadata": {},
   "outputs": [
    {
     "data": {
      "text/plain": [
       "[(1,\n",
       "  'Dhanush',\n",
       "  'Komari',\n",
       "  23,\n",
       "  'O +ve',\n",
       "  'Male',\n",
       "  'Active',\n",
       "  '7288833323',\n",
       "  'dhanushkomari@gmail.com',\n",
       "  'Nellore',\n",
       "  datetime.datetime(2021, 3, 31, 12, 25, 45, 507157, tzinfo=psycopg2.tz.FixedOffsetTimezone(offset=330, name=None))),\n",
       " (2,\n",
       "  'sarah',\n",
       "  'Johnson',\n",
       "  22,\n",
       "  'B +ve',\n",
       "  'Female',\n",
       "  'Active',\n",
       "  '9865555669',\n",
       "  'sarah@gmail.com',\n",
       "  'Madrid',\n",
       "  datetime.datetime(2021, 3, 31, 16, 41, 39, 150325, tzinfo=psycopg2.tz.FixedOffsetTimezone(offset=330, name=None))),\n",
       " (3,\n",
       "  'dwayne ',\n",
       "  'johnosn',\n",
       "  54,\n",
       "  'B +ve',\n",
       "  'Male',\n",
       "  'Active',\n",
       "  '8695965896',\n",
       "  'dwayn@john.co',\n",
       "  'Newyork',\n",
       "  datetime.datetime(2021, 3, 31, 16, 50, 10, 142601, tzinfo=psycopg2.tz.FixedOffsetTimezone(offset=330, name=None))),\n",
       " (4,\n",
       "  'john',\n",
       "  'wick',\n",
       "  56,\n",
       "  'A -ve',\n",
       "  'Male',\n",
       "  'Active',\n",
       "  '8965321245',\n",
       "  'john@wick.com',\n",
       "  'London',\n",
       "  datetime.datetime(2021, 3, 31, 17, 6, 59, 700577, tzinfo=psycopg2.tz.FixedOffsetTimezone(offset=330, name=None))),\n",
       " (5,\n",
       "  'jack',\n",
       "  'sparrow',\n",
       "  45,\n",
       "  'O -ve',\n",
       "  'Male',\n",
       "  'Active',\n",
       "  '8965458574',\n",
       "  'jack@sparrow.com',\n",
       "  'windies',\n",
       "  datetime.datetime(2021, 3, 31, 17, 8, 38, 817402, tzinfo=psycopg2.tz.FixedOffsetTimezone(offset=330, name=None)))]"
      ]
     },
     "execution_count": 105,
     "metadata": {},
     "output_type": "execute_result"
    }
   ],
   "source": [
    "cur.fetchall()"
   ]
  },
  {
   "cell_type": "code",
   "execution_count": 113,
   "metadata": {},
   "outputs": [],
   "source": [
    "cur.execute('''INSERT INTO \"CameraApp_status\"(status, created_at)\n",
    "            VALUES ('unknown', '01-04-2021 16:14:20');''')"
   ]
  },
  {
   "cell_type": "code",
   "execution_count": 115,
   "metadata": {},
   "outputs": [],
   "source": [
    "conn.commit()"
   ]
  },
  {
   "cell_type": "code",
   "execution_count": 21,
   "metadata": {},
   "outputs": [],
   "source": [
    "from datetime import datetime\n",
    "d = datetime.now()\n",
    "status = 'unknown'"
   ]
  },
  {
   "cell_type": "code",
   "execution_count": 22,
   "metadata": {},
   "outputs": [],
   "source": [
    "cur.execute(\"ROLLBACK\")"
   ]
  },
  {
   "cell_type": "code",
   "execution_count": 23,
   "metadata": {},
   "outputs": [],
   "source": [
    "query = '''INSERT INTO \"CameraApp_status\"(status, created_at) VALUES (%s, %s)'''"
   ]
  },
  {
   "cell_type": "code",
   "execution_count": 24,
   "metadata": {},
   "outputs": [],
   "source": [
    "cur.execute((query),(status, d));"
   ]
  },
  {
   "cell_type": "code",
   "execution_count": 20,
   "metadata": {},
   "outputs": [],
   "source": [
    "conn.commit()"
   ]
  },
  {
   "cell_type": "code",
   "execution_count": null,
   "metadata": {},
   "outputs": [],
   "source": []
  },
  {
   "cell_type": "code",
   "execution_count": 1,
   "metadata": {},
   "outputs": [],
   "source": [
    "url = 'http://10.158.10.30:8000/api/patients'\n"
   ]
  },
  {
   "cell_type": "code",
   "execution_count": 15,
   "metadata": {},
   "outputs": [],
   "source": [
    "import requests\n",
    "from datetime import datetime\n",
    "now = datetime.now()"
   ]
  },
  {
   "cell_type": "code",
   "execution_count": 9,
   "metadata": {},
   "outputs": [],
   "source": [
    "r = requests.get(url)"
   ]
  },
  {
   "cell_type": "code",
   "execution_count": 10,
   "metadata": {},
   "outputs": [
    {
     "data": {
      "text/plain": [
       "<Response [200]>"
      ]
     },
     "execution_count": 10,
     "metadata": {},
     "output_type": "execute_result"
    }
   ],
   "source": [
    "r"
   ]
  },
  {
   "cell_type": "code",
   "execution_count": 12,
   "metadata": {},
   "outputs": [],
   "source": [
    "a = r.json()"
   ]
  },
  {
   "cell_type": "code",
   "execution_count": 13,
   "metadata": {},
   "outputs": [
    {
     "data": {
      "text/plain": [
       "{'id': 7,\n",
       " 'first_name': 'Christhopher',\n",
       " 'last_name': 'Nolan',\n",
       " 'age': 44,\n",
       " 'blood_group': 'O +ve',\n",
       " 'gender': 'Male',\n",
       " 'status': 'Active',\n",
       " 'contact': '9832344323',\n",
       " 'email': 'christ@nolan.com',\n",
       " 'city': 'jersey',\n",
       " 'created_at': '2021-04-01T16:14:20+05:30'}"
      ]
     },
     "execution_count": 13,
     "metadata": {},
     "output_type": "execute_result"
    }
   ],
   "source": [
    "a"
   ]
  },
  {
   "cell_type": "code",
   "execution_count": 19,
   "metadata": {},
   "outputs": [],
   "source": [
    "rec_time = a['created_at']"
   ]
  },
  {
   "cell_type": "code",
   "execution_count": 20,
   "metadata": {},
   "outputs": [
    {
     "data": {
      "text/plain": [
       "'2021-04-01T16:14:20+05:30'"
      ]
     },
     "execution_count": 20,
     "metadata": {},
     "output_type": "execute_result"
    }
   ],
   "source": [
    "rec_time"
   ]
  },
  {
   "cell_type": "code",
   "execution_count": 21,
   "metadata": {},
   "outputs": [
    {
     "data": {
      "text/plain": [
       "datetime.datetime(2021, 4, 3, 13, 0, 19, 204130)"
      ]
     },
     "execution_count": 21,
     "metadata": {},
     "output_type": "execute_result"
    }
   ],
   "source": [
    "now"
   ]
  },
  {
   "cell_type": "code",
   "execution_count": 24,
   "metadata": {},
   "outputs": [
    {
     "data": {
      "text/plain": [
       "str"
      ]
     },
     "execution_count": 24,
     "metadata": {},
     "output_type": "execute_result"
    }
   ],
   "source": [
    "type(rec_time)"
   ]
  },
  {
   "cell_type": "code",
   "execution_count": 32,
   "metadata": {},
   "outputs": [
    {
     "data": {
      "text/plain": [
       "'2021-04-01T16:14:20+05:30'"
      ]
     },
     "execution_count": 32,
     "metadata": {},
     "output_type": "execute_result"
    }
   ],
   "source": [
    "rec_time"
   ]
  },
  {
   "cell_type": "code",
   "execution_count": 36,
   "metadata": {},
   "outputs": [
    {
     "data": {
      "text/plain": [
       "'2021'"
      ]
     },
     "execution_count": 36,
     "metadata": {},
     "output_type": "execute_result"
    }
   ],
   "source": [
    "year = rec_time[0:4]\n",
    "year"
   ]
  },
  {
   "cell_type": "code",
   "execution_count": 39,
   "metadata": {},
   "outputs": [
    {
     "data": {
      "text/plain": [
       "'04'"
      ]
     },
     "execution_count": 39,
     "metadata": {},
     "output_type": "execute_result"
    }
   ],
   "source": [
    "month = rec_time[5:7]\n",
    "month"
   ]
  },
  {
   "cell_type": "code",
   "execution_count": 41,
   "metadata": {},
   "outputs": [
    {
     "data": {
      "text/plain": [
       "'01'"
      ]
     },
     "execution_count": 41,
     "metadata": {},
     "output_type": "execute_result"
    }
   ],
   "source": [
    "day = rec_time[8:10]\n",
    "day"
   ]
  },
  {
   "cell_type": "code",
   "execution_count": 45,
   "metadata": {},
   "outputs": [
    {
     "data": {
      "text/plain": [
       "'16'"
      ]
     },
     "execution_count": 45,
     "metadata": {},
     "output_type": "execute_result"
    }
   ],
   "source": [
    "hour = rec_time[11:13]\n",
    "hour"
   ]
  },
  {
   "cell_type": "code",
   "execution_count": 47,
   "metadata": {},
   "outputs": [
    {
     "data": {
      "text/plain": [
       "'14'"
      ]
     },
     "execution_count": 47,
     "metadata": {},
     "output_type": "execute_result"
    }
   ],
   "source": [
    "min = rec_time[14:16]\n",
    "min"
   ]
  },
  {
   "cell_type": "code",
   "execution_count": 50,
   "metadata": {},
   "outputs": [
    {
     "data": {
      "text/plain": [
       "'20'"
      ]
     },
     "execution_count": 50,
     "metadata": {},
     "output_type": "execute_result"
    }
   ],
   "source": [
    "sec = rec_time[17:19]\n",
    "sec"
   ]
  },
  {
   "cell_type": "code",
   "execution_count": 107,
   "metadata": {},
   "outputs": [
    {
     "name": "stdout",
     "output_type": "stream",
     "text": [
      "last_obj_time:  2021-03-31 17:08:38\n",
      "now_time:  2021-04-03 13:42:30.784596\n",
      "difference:  74032\n"
     ]
    },
    {
     "data": {
      "text/plain": [
       "[datetime.datetime(2021, 3, 31, 17, 8, 38),\n",
       " datetime.datetime(2021, 4, 3, 13, 42, 30, 784596)]"
      ]
     },
     "execution_count": 107,
     "metadata": {},
     "output_type": "execute_result"
    }
   ],
   "source": [
    "from datetime import datetime\n",
    "def recent_time(a):\n",
    "    rec_time = a \n",
    "    year = rec_time[0:4]\n",
    "    mon = rec_time[5:7]\n",
    "    day = rec_time[8:10]\n",
    "    hour = rec_time[11:13]\n",
    "    mins = rec_time[14:16]\n",
    "    sec = rec_time[17:19]\n",
    "    \n",
    "    new_date = year+'-'+mon+'-'+day+' '+hour+':'+mins+':'+sec\n",
    "    last_time = datetime.strptime(new_date, '%Y-%m-%d %H:%M:%S') \n",
    "    print('last_obj_time: ',last_time)\n",
    "    now = datetime.now()\n",
    "    print('now_time: ', now)\n",
    "    print('difference: ', (now-last_time).seconds)\n",
    "    \n",
    "    return [last_time, now]\n",
    "recent_time('2021-03-31T17:08:38.817402+05:30')\n",
    "    "
   ]
  },
  {
   "cell_type": "code",
   "execution_count": null,
   "metadata": {},
   "outputs": [],
   "source": []
  }
 ],
 "metadata": {
  "kernelspec": {
   "display_name": "Python 3",
   "language": "python",
   "name": "python3"
  },
  "language_info": {
   "codemirror_mode": {
    "name": "ipython",
    "version": 3
   },
   "file_extension": ".py",
   "mimetype": "text/x-python",
   "name": "python",
   "nbconvert_exporter": "python",
   "pygments_lexer": "ipython3",
   "version": "3.8.5"
  }
 },
 "nbformat": 4,
 "nbformat_minor": 4
}
